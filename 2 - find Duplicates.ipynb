{
 "cells": [
  {
   "cell_type": "code",
   "execution_count": 5,
   "metadata": {},
   "outputs": [],
   "source": [
    "passwords = []\n",
    "c=0\n",
    "with open(\"passwords2.txt\", \"r\") as f:\n",
    "    for row in f:\n",
    "        passwords.append(row.split())\n",
    "        c+=1\n",
    "        if c > 100:\n",
    "            break"
   ]
  },
  {
   "cell_type": "code",
   "execution_count": 15,
   "metadata": {},
   "outputs": [],
   "source": [
    "import hashlib"
   ]
  },
  {
   "cell_type": "markdown",
   "metadata": {},
   "source": [
    "### Hash function for duplicates, no matter the position"
   ]
  },
  {
   "cell_type": "code",
   "execution_count": 41,
   "metadata": {},
   "outputs": [],
   "source": [
    "import functools\n",
    "\n",
    "\n",
    "def hash_function_1(word):\n",
    "    res = [ ord(word[i]) if i != 0 else ord(word[i])*128 for i in range(len(word)) ]\n",
    "    return res\n",
    "\n",
    "\n",
    "funcs = [hash_function_1]\n",
    "sums = []\n",
    "for word in passwords:\n",
    "    \n",
    "    values = list(map(lambda x: x(word[0]), funcs))\n",
    "    \n",
    "    summing = functools.reduce((lambda y, z: y+z), values[0])\n",
    "    sums.append(summing)\n"
   ]
  },
  {
   "cell_type": "code",
   "execution_count": 1,
   "metadata": {},
   "outputs": [],
   "source": [
    "# check if the character are the same\n",
    "from collections import Counter\n",
    "res = Counter(filter(str.isalnum, \"aab\")) == Counter(filter(str.isalnum, \"aba\"))"
   ]
  },
  {
   "cell_type": "code",
   "execution_count": null,
   "metadata": {},
   "outputs": [],
   "source": []
  },
  {
   "cell_type": "code",
   "execution_count": null,
   "metadata": {},
   "outputs": [],
   "source": []
  },
  {
   "cell_type": "code",
   "execution_count": null,
   "metadata": {},
   "outputs": [],
   "source": []
  },
  {
   "cell_type": "code",
   "execution_count": null,
   "metadata": {},
   "outputs": [],
   "source": []
  },
  {
   "cell_type": "code",
   "execution_count": null,
   "metadata": {},
   "outputs": [],
   "source": []
  },
  {
   "cell_type": "code",
   "execution_count": 17,
   "metadata": {},
   "outputs": [
    {
     "data": {
      "text/plain": [
       "68764605"
      ]
     },
     "execution_count": 17,
     "metadata": {},
     "output_type": "execute_result"
    }
   ],
   "source": [
    "s = 'aab'\n",
    "int(hashlib.sha256(s.encode('utf-8')).hexdigest(), 16) % 10**8\n",
    "\n",
    "s = 'aba'\n",
    "int(hashlib.sha256(s.encode('utf-8')).hexdigest(), 16) % 10**8"
   ]
  }
 ],
 "metadata": {
  "kernelspec": {
   "display_name": "Python 3",
   "language": "python",
   "name": "python3"
  },
  "language_info": {
   "codemirror_mode": {
    "name": "ipython",
    "version": 3
   },
   "file_extension": ".py",
   "mimetype": "text/x-python",
   "name": "python",
   "nbconvert_exporter": "python",
   "pygments_lexer": "ipython3",
   "version": "3.7.0"
  }
 },
 "nbformat": 4,
 "nbformat_minor": 2
}
